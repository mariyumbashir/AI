{
 "cells": [
  {
   "cell_type": "markdown",
   "metadata": {},
   "source": [
    "## 1. Divisibility Check of two numbers\n",
    "\n",
    "Write a Python program to check whether a number is completely divisible by another number. Accept two integer values form the user\n",
    "##### Program Console Sample Output 1:\n",
    "Enter numerator: 4\n",
    "\n",
    "Enter Denominator: 2\n",
    "\n",
    "Number 4 is Completely divisible by 2\n",
    "###### Program Console Sample Output 2:\n",
    "Enter numerator: 7\n",
    "\n",
    "Enter Denominator: 4\n",
    "\n",
    "Number 7 is not Completely divisible by 4"
   ]
  },
  {
   "cell_type": "code",
   "execution_count": 2,
   "metadata": {},
   "outputs": [
    {
     "name": "stdout",
     "output_type": "stream",
     "text": [
      "Enter Numerator: 7\n",
      "Enter Denominator: 4\n",
      "Number 7 is not Completely divisible by 4\n"
     ]
    }
   ],
   "source": [
    "num1 = int(input(\"Enter Numerator: \"))\n",
    "num2 = int(input(\"Enter Denominator: \"))\n",
    "num = num1/num2\n",
    "if num%2==0:\n",
    "    print(\"Number\", num1, \"is Completely divisible by\", num2)\n",
    "else:\n",
    "    print(\"Number\", num1, \"is not Completely divisible by\", num2)"
   ]
  },
  {
   "cell_type": "markdown",
   "metadata": {},
   "source": [
    "## 2. Copy string n times\n",
    "Write a Python program to get a string which is n (non-negative integer) copies of a given string.\n",
    "##### Program Console Output:\n",
    "Enter String: Hi\n",
    "\n",
    "How many copies of String you need: 4\n",
    "\n",
    "4 Copies of Hi are HiHiHiHi"
   ]
  },
  {
   "cell_type": "code",
   "execution_count": 3,
   "metadata": {},
   "outputs": [
    {
     "name": "stdout",
     "output_type": "stream",
     "text": [
      "Enter String: Hi\n",
      "How may copies of String you need: 4\n",
      "4 Copies of Hi are HiHiHiHi\n"
     ]
    }
   ],
   "source": [
    "str = input(\"Enter String: \")\n",
    "copies = int(input(\"How may copies of String you need: \"))\n",
    "print(copies, \"Copies of\", str, \"are\", str*copies)"
   ]
  },
  {
   "cell_type": "markdown",
   "metadata": {},
   "source": [
    "## 3. Vowel Tester\n",
    "Write a Python program to test whether a passed letter is a vowel or not\n",
    "#### Program Console Output 1:\n",
    "Enter a character: A\n",
    "\n",
    "Letter A is Vowel\n",
    "#### Program Console Output 2:\n",
    "Enter a character: e\n",
    "\n",
    "Letter e is Vowel\n",
    "#### Program Console Output 2:\n",
    "Enter a character: N\n",
    "Letter N is not Vowel"
   ]
  },
  {
   "cell_type": "code",
   "execution_count": 11,
   "metadata": {},
   "outputs": [
    {
     "name": "stdout",
     "output_type": "stream",
     "text": [
      "Enter a Character : N\n",
      "Letter N is not Vowel\n"
     ]
    }
   ],
   "source": [
    "letter = input(\"Enter a Character : \")\n",
    "if(letter == 'a' or letter == 'e' or letter == 'i' or letter == 'o' or letter == 'u' or letter == 'A'\n",
    "       or letter == 'E' or letter == 'I' or letter == 'O' or letter == 'U'):\n",
    "    print(\"Letter\", letter, \"is Vowel\")\n",
    "else:\n",
    "    print(\"Letter\", letter, \"is not Vowel\")"
   ]
  },
  {
   "cell_type": "markdown",
   "metadata": {},
   "source": [
    "## 4. Odd No.s\n",
    "Use the third argument of the range() function to make a list of the odd numbers from 1 to 20. Use a for loop to print each number."
   ]
  },
  {
   "cell_type": "code",
   "execution_count": 12,
   "metadata": {},
   "outputs": [
    {
     "name": "stdout",
     "output_type": "stream",
     "text": [
      "1\n",
      "3\n",
      "5\n",
      "7\n",
      "9\n",
      "11\n",
      "13\n",
      "15\n",
      "17\n",
      "19\n"
     ]
    }
   ],
   "source": [
    "for i in range(1,20,2):\n",
    "    print(i)"
   ]
  },
  {
   "cell_type": "markdown",
   "metadata": {},
   "source": [
    "## 5. Food Slicing\n",
    "Make a python program that contains your nine favourite dishes in a list called foods.Print the message, \n",
    "\n",
    "**The first three items in the list are:**\n",
    "\n",
    "Then use a slice to print the first three items from that program’s list.Print the message, \n",
    "\n",
    "**Three items from the middle of the list are:**\n",
    "\n",
    "Use a slice to print three items from the middle of the list.Print the message, \n",
    "\n",
    "**The last three items in the list are:**\n",
    "\n",
    "Use a slice to print the last three items in the list."
   ]
  },
  {
   "cell_type": "code",
   "execution_count": 17,
   "metadata": {},
   "outputs": [
    {
     "name": "stdout",
     "output_type": "stream",
     "text": [
      "My favourite dishes are: ['Biryani', 'Karahi', 'Korma', 'Koftay', 'Pulao', 'Tikka', 'Haleem', 'Nihari', 'Kabab']\n",
      "First three items in the list are: ['Biryani', 'Karahi', 'Korma']\n",
      "Three items from the middle of the list are: ['Koftay', 'Pulao', 'Tikka']\n",
      "Last three items in the list are: ['Haleem', 'Nihari', 'Kabab']\n"
     ]
    }
   ],
   "source": [
    "list = ['Biryani', 'Karahi', 'Korma', 'Koftay', 'Pulao', 'Tikka', 'Haleem', 'Nihari', 'Kabab']\n",
    "print(\"My favourite dishes are:\", list)\n",
    "print(\"First three items in the list are:\", list[0:3])\n",
    "print(\"Three items from the middle of the list are:\", list[3:6])\n",
    "print(\"Last three items in the list are:\", list[6:10])"
   ]
  },
  {
   "cell_type": "code",
   "execution_count": null,
   "metadata": {},
   "outputs": [],
   "source": []
  }
 ],
 "metadata": {
  "kernelspec": {
   "display_name": "Python 3",
   "language": "python",
   "name": "python3"
  },
  "language_info": {
   "codemirror_mode": {
    "name": "ipython",
    "version": 3
   },
   "file_extension": ".py",
   "mimetype": "text/x-python",
   "name": "python",
   "nbconvert_exporter": "python",
   "pygments_lexer": "ipython3",
   "version": "3.7.4"
  }
 },
 "nbformat": 4,
 "nbformat_minor": 2
}
